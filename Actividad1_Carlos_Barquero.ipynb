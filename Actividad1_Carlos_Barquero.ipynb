{
  "nbformat": 4,
  "nbformat_minor": 0,
  "metadata": {
    "colab": {
      "provenance": []
    },
    "kernelspec": {
      "name": "python3",
      "display_name": "Python 3"
    },
    "language_info": {
      "name": "python"
    }
  },
  "cells": [
    {
      "cell_type": "code",
      "source": [
        "# https://colab.research.google.com/drive/1LbHcG_MBCls6OsN6rRFkVLcKjRc9BBEf#scrollTo=keP6kDwh6pPg"
      ],
      "metadata": {
        "id": "keP6kDwh6pPg"
      },
      "execution_count": 22,
      "outputs": []
    },
    {
      "cell_type": "code",
      "source": [
        "import spacy\n",
        "import nltk"
      ],
      "metadata": {
        "id": "NhvYtELP82NS"
      },
      "execution_count": 2,
      "outputs": []
    },
    {
      "cell_type": "code",
      "execution_count": 3,
      "metadata": {
        "colab": {
          "base_uri": "https://localhost:8080/"
        },
        "id": "jW-UUzxi8ZJz",
        "outputId": "8d5835ef-68b7-43e7-a60a-d66b96fa1ac2"
      },
      "outputs": [
        {
          "output_type": "stream",
          "name": "stdout",
          "text": [
            "Mounted at /content/drive\n"
          ]
        }
      ],
      "source": [
        "from google.colab import drive\n",
        "drive.mount('/content/drive')"
      ]
    },
    {
      "cell_type": "code",
      "source": [
        "with open('/content/drive/MyDrive/Master_IA/Módulo5/Actividad1/Actividad 1 esp.txt', 'r', encoding = 'utf-8') as f:\n",
        "    esp_text = f.read()\n",
        "\n",
        "with open('/content/drive/MyDrive/Master_IA/Módulo5/Actividad1/Actividad 1 ing.txt', 'r', encoding = 'utf-8') as f:\n",
        "    ing_text = f.read()"
      ],
      "metadata": {
        "id": "K5wC9pf88z4c"
      },
      "execution_count": 4,
      "outputs": []
    },
    {
      "cell_type": "markdown",
      "source": [
        "# Texto en Español (utilizando Spacy)\n",
        "\n",
        "1. Visualizar contenido.\n",
        "2. Cargar y aplicar el modelo de lenguaje.\n",
        "3. Tokenizar.\n",
        "\n",
        "  3.1. Separar en frases.\n",
        "\n",
        "  3.2. Separar en palabras.\n",
        "\n",
        "  3.3. Lematizar.\n",
        "\n",
        "4. Análisis morfológico (POS, Part of Speech)\n",
        "5. Extracción de entidades.\n",
        "6. Visualizar resultados (máximo 10 primeros elementos)"
      ],
      "metadata": {
        "id": "SVcUQ6x5Shsj"
      }
    },
    {
      "cell_type": "markdown",
      "source": [
        "### 1. Visualizar contenido."
      ],
      "metadata": {
        "id": "NDJAXg-ATWd8"
      }
    },
    {
      "cell_type": "code",
      "source": [
        "esp_text"
      ],
      "metadata": {
        "colab": {
          "base_uri": "https://localhost:8080/",
          "height": 90
        },
        "id": "s6zdQRbsCkN4",
        "outputId": "30ee493e-008a-44ae-cb6e-eacf13d38ad4"
      },
      "execution_count": 5,
      "outputs": [
        {
          "output_type": "execute_result",
          "data": {
            "text/plain": [
              "'Cuando los cines parecen recuperar su músculo, llega a las salas de España la película \"Los Estados Unidos contra Billie Holiday\", el desalentador retrato del director Lee Daniels sobre la persecución del Gobierno Federal de Estados Unidos a la gran cantante de jazz desde 1947 hasta su muerte en 1959 a la edad de 44 años. El título de la cinta toma como referencia una frase de la artista, que ingresó en prisión durante un año por un cargo de posesión de narcóticos en el apogeo de su carrera: El caso se llama \"Los Estados Unidos de América contra Billie Holiday\". Está basado en un capítulo del libro \"Tras el grito\"\\n'"
            ],
            "application/vnd.google.colaboratory.intrinsic+json": {
              "type": "string"
            }
          },
          "metadata": {},
          "execution_count": 5
        }
      ]
    },
    {
      "cell_type": "markdown",
      "source": [
        "### 2. Cargar y aplicar el modelo de lenguaje."
      ],
      "metadata": {
        "id": "QvvpS5GVThGi"
      }
    },
    {
      "cell_type": "code",
      "source": [
        "!python -m spacy download es_core_news_sm"
      ],
      "metadata": {
        "colab": {
          "base_uri": "https://localhost:8080/"
        },
        "id": "0HvVwIeKZeGB",
        "outputId": "2f8b0f15-244d-4a2c-e30e-dbb125abe967"
      },
      "execution_count": 6,
      "outputs": [
        {
          "output_type": "stream",
          "name": "stdout",
          "text": [
            "2023-05-12 09:43:58.468221: W tensorflow/compiler/tf2tensorrt/utils/py_utils.cc:38] TF-TRT Warning: Could not find TensorRT\n",
            "Looking in indexes: https://pypi.org/simple, https://us-python.pkg.dev/colab-wheels/public/simple/\n",
            "Collecting es-core-news-sm==3.5.0\n",
            "  Downloading https://github.com/explosion/spacy-models/releases/download/es_core_news_sm-3.5.0/es_core_news_sm-3.5.0-py3-none-any.whl (12.9 MB)\n",
            "\u001b[2K     \u001b[90m━━━━━━━━━━━━━━━━━━━━━━━━━━━━━━━━━━━━━━━━\u001b[0m \u001b[32m12.9/12.9 MB\u001b[0m \u001b[31m70.6 MB/s\u001b[0m eta \u001b[36m0:00:00\u001b[0m\n",
            "\u001b[?25hRequirement already satisfied: spacy<3.6.0,>=3.5.0 in /usr/local/lib/python3.10/dist-packages (from es-core-news-sm==3.5.0) (3.5.2)\n",
            "Requirement already satisfied: spacy-legacy<3.1.0,>=3.0.11 in /usr/local/lib/python3.10/dist-packages (from spacy<3.6.0,>=3.5.0->es-core-news-sm==3.5.0) (3.0.12)\n",
            "Requirement already satisfied: spacy-loggers<2.0.0,>=1.0.0 in /usr/local/lib/python3.10/dist-packages (from spacy<3.6.0,>=3.5.0->es-core-news-sm==3.5.0) (1.0.4)\n",
            "Requirement already satisfied: murmurhash<1.1.0,>=0.28.0 in /usr/local/lib/python3.10/dist-packages (from spacy<3.6.0,>=3.5.0->es-core-news-sm==3.5.0) (1.0.9)\n",
            "Requirement already satisfied: cymem<2.1.0,>=2.0.2 in /usr/local/lib/python3.10/dist-packages (from spacy<3.6.0,>=3.5.0->es-core-news-sm==3.5.0) (2.0.7)\n",
            "Requirement already satisfied: preshed<3.1.0,>=3.0.2 in /usr/local/lib/python3.10/dist-packages (from spacy<3.6.0,>=3.5.0->es-core-news-sm==3.5.0) (3.0.8)\n",
            "Requirement already satisfied: thinc<8.2.0,>=8.1.8 in /usr/local/lib/python3.10/dist-packages (from spacy<3.6.0,>=3.5.0->es-core-news-sm==3.5.0) (8.1.9)\n",
            "Requirement already satisfied: wasabi<1.2.0,>=0.9.1 in /usr/local/lib/python3.10/dist-packages (from spacy<3.6.0,>=3.5.0->es-core-news-sm==3.5.0) (1.1.1)\n",
            "Requirement already satisfied: srsly<3.0.0,>=2.4.3 in /usr/local/lib/python3.10/dist-packages (from spacy<3.6.0,>=3.5.0->es-core-news-sm==3.5.0) (2.4.6)\n",
            "Requirement already satisfied: catalogue<2.1.0,>=2.0.6 in /usr/local/lib/python3.10/dist-packages (from spacy<3.6.0,>=3.5.0->es-core-news-sm==3.5.0) (2.0.8)\n",
            "Requirement already satisfied: typer<0.8.0,>=0.3.0 in /usr/local/lib/python3.10/dist-packages (from spacy<3.6.0,>=3.5.0->es-core-news-sm==3.5.0) (0.7.0)\n",
            "Requirement already satisfied: pathy>=0.10.0 in /usr/local/lib/python3.10/dist-packages (from spacy<3.6.0,>=3.5.0->es-core-news-sm==3.5.0) (0.10.1)\n",
            "Requirement already satisfied: smart-open<7.0.0,>=5.2.1 in /usr/local/lib/python3.10/dist-packages (from spacy<3.6.0,>=3.5.0->es-core-news-sm==3.5.0) (6.3.0)\n",
            "Requirement already satisfied: tqdm<5.0.0,>=4.38.0 in /usr/local/lib/python3.10/dist-packages (from spacy<3.6.0,>=3.5.0->es-core-news-sm==3.5.0) (4.65.0)\n",
            "Requirement already satisfied: numpy>=1.15.0 in /usr/local/lib/python3.10/dist-packages (from spacy<3.6.0,>=3.5.0->es-core-news-sm==3.5.0) (1.22.4)\n",
            "Requirement already satisfied: requests<3.0.0,>=2.13.0 in /usr/local/lib/python3.10/dist-packages (from spacy<3.6.0,>=3.5.0->es-core-news-sm==3.5.0) (2.27.1)\n",
            "Requirement already satisfied: pydantic!=1.8,!=1.8.1,<1.11.0,>=1.7.4 in /usr/local/lib/python3.10/dist-packages (from spacy<3.6.0,>=3.5.0->es-core-news-sm==3.5.0) (1.10.7)\n",
            "Requirement already satisfied: jinja2 in /usr/local/lib/python3.10/dist-packages (from spacy<3.6.0,>=3.5.0->es-core-news-sm==3.5.0) (3.1.2)\n",
            "Requirement already satisfied: setuptools in /usr/local/lib/python3.10/dist-packages (from spacy<3.6.0,>=3.5.0->es-core-news-sm==3.5.0) (67.7.2)\n",
            "Requirement already satisfied: packaging>=20.0 in /usr/local/lib/python3.10/dist-packages (from spacy<3.6.0,>=3.5.0->es-core-news-sm==3.5.0) (23.1)\n",
            "Requirement already satisfied: langcodes<4.0.0,>=3.2.0 in /usr/local/lib/python3.10/dist-packages (from spacy<3.6.0,>=3.5.0->es-core-news-sm==3.5.0) (3.3.0)\n",
            "Requirement already satisfied: typing-extensions>=4.2.0 in /usr/local/lib/python3.10/dist-packages (from pydantic!=1.8,!=1.8.1,<1.11.0,>=1.7.4->spacy<3.6.0,>=3.5.0->es-core-news-sm==3.5.0) (4.5.0)\n",
            "Requirement already satisfied: urllib3<1.27,>=1.21.1 in /usr/local/lib/python3.10/dist-packages (from requests<3.0.0,>=2.13.0->spacy<3.6.0,>=3.5.0->es-core-news-sm==3.5.0) (1.26.15)\n",
            "Requirement already satisfied: certifi>=2017.4.17 in /usr/local/lib/python3.10/dist-packages (from requests<3.0.0,>=2.13.0->spacy<3.6.0,>=3.5.0->es-core-news-sm==3.5.0) (2022.12.7)\n",
            "Requirement already satisfied: charset-normalizer~=2.0.0 in /usr/local/lib/python3.10/dist-packages (from requests<3.0.0,>=2.13.0->spacy<3.6.0,>=3.5.0->es-core-news-sm==3.5.0) (2.0.12)\n",
            "Requirement already satisfied: idna<4,>=2.5 in /usr/local/lib/python3.10/dist-packages (from requests<3.0.0,>=2.13.0->spacy<3.6.0,>=3.5.0->es-core-news-sm==3.5.0) (3.4)\n",
            "Requirement already satisfied: blis<0.8.0,>=0.7.8 in /usr/local/lib/python3.10/dist-packages (from thinc<8.2.0,>=8.1.8->spacy<3.6.0,>=3.5.0->es-core-news-sm==3.5.0) (0.7.9)\n",
            "Requirement already satisfied: confection<1.0.0,>=0.0.1 in /usr/local/lib/python3.10/dist-packages (from thinc<8.2.0,>=8.1.8->spacy<3.6.0,>=3.5.0->es-core-news-sm==3.5.0) (0.0.4)\n",
            "Requirement already satisfied: click<9.0.0,>=7.1.1 in /usr/local/lib/python3.10/dist-packages (from typer<0.8.0,>=0.3.0->spacy<3.6.0,>=3.5.0->es-core-news-sm==3.5.0) (8.1.3)\n",
            "Requirement already satisfied: MarkupSafe>=2.0 in /usr/local/lib/python3.10/dist-packages (from jinja2->spacy<3.6.0,>=3.5.0->es-core-news-sm==3.5.0) (2.1.2)\n",
            "Installing collected packages: es-core-news-sm\n",
            "Successfully installed es-core-news-sm-3.5.0\n",
            "\u001b[38;5;2m✔ Download and installation successful\u001b[0m\n",
            "You can now load the package via spacy.load('es_core_news_sm')\n"
          ]
        }
      ]
    },
    {
      "cell_type": "code",
      "source": [
        "import es_core_news_sm"
      ],
      "metadata": {
        "id": "GWy6TKhRhS3t"
      },
      "execution_count": 7,
      "outputs": []
    },
    {
      "cell_type": "code",
      "source": [
        "# Cargar modelo de lenguaje en español\n",
        "nlp = spacy.load('es_core_news_sm')\n",
        "doc_esp = nlp(esp_text)"
      ],
      "metadata": {
        "id": "uz0cGINU-iPz"
      },
      "execution_count": 8,
      "outputs": []
    },
    {
      "cell_type": "markdown",
      "source": [
        "### 3. Tokenizar"
      ],
      "metadata": {
        "id": "KACgtunWLafO"
      }
    },
    {
      "cell_type": "code",
      "source": [
        "# Separar en frases\n",
        "frases_esp = [sent.text for sent in doc_esp.sents]\n",
        "# Separar en palabras y formas normales\n",
        "palabras_esp = [token.text for token in doc_esp]\n",
        "formas_esp = [[token.lemma_ for token in sent] for sent in doc_esp.sents]\n",
        "\n",
        "#print(frases_esp[:10])\n",
        "#print(palabras_esp[:10])\n",
        "#print(formas_esp[:10])"
      ],
      "metadata": {
        "id": "gx74RNTyNUz8"
      },
      "execution_count": 9,
      "outputs": []
    },
    {
      "cell_type": "markdown",
      "source": [
        "### 4. Análisis morfológico (POS, Part of Speech)"
      ],
      "metadata": {
        "id": "LhuVM_p_Ue4U"
      }
    },
    {
      "cell_type": "code",
      "source": [
        "pos_tags1 = [(token.text, token.pos_) for token in doc_esp]\n",
        "#print(pos_tags1)"
      ],
      "metadata": {
        "id": "ccDEryk-4xEU"
      },
      "execution_count": 10,
      "outputs": []
    },
    {
      "cell_type": "markdown",
      "source": [
        "### 5. Extracción de entidades"
      ],
      "metadata": {
        "id": "1R-y9J6EVSUr"
      }
    },
    {
      "cell_type": "code",
      "source": [
        "entidades = [(ent.text, ent.label_) for ent in doc_esp.ents]\n",
        "# Imprimir resultados\n",
        "#print('Entidades nombradas:\\n')\n",
        "#print(entidades)"
      ],
      "metadata": {
        "id": "IlmeTFaqVRMN"
      },
      "execution_count": 11,
      "outputs": []
    },
    {
      "cell_type": "code",
      "source": [
        "from spacy import displacy\n",
        "displacy.render(nlp(str(frases_esp)), jupyter=True, style='ent')"
      ],
      "metadata": {
        "colab": {
          "base_uri": "https://localhost:8080/",
          "height": 157
        },
        "id": "Yn3aRkUlcwoY",
        "outputId": "5aa4fa9f-f262-4210-a46d-2c3c4bc4a4a2"
      },
      "execution_count": 12,
      "outputs": [
        {
          "output_type": "display_data",
          "data": {
            "text/plain": [
              "<IPython.core.display.HTML object>"
            ],
            "text/html": [
              "<span class=\"tex2jax_ignore\"><div class=\"entities\" style=\"line-height: 2.5; direction: ltr\">['Cuando los cines parecen recuperar su músculo, llega a las salas de \n",
              "<mark class=\"entity\" style=\"background: #ff9561; padding: 0.45em 0.6em; margin: 0 0.25em; line-height: 1; border-radius: 0.35em;\">\n",
              "    España\n",
              "    <span style=\"font-size: 0.8em; font-weight: bold; line-height: 1; border-radius: 0.35em; vertical-align: middle; margin-left: 0.5rem\">LOC</span>\n",
              "</mark>\n",
              " la película &quot;\n",
              "<mark class=\"entity\" style=\"background: #ff9561; padding: 0.45em 0.6em; margin: 0 0.25em; line-height: 1; border-radius: 0.35em;\">\n",
              "    Los Estados Unidos\n",
              "    <span style=\"font-size: 0.8em; font-weight: bold; line-height: 1; border-radius: 0.35em; vertical-align: middle; margin-left: 0.5rem\">LOC</span>\n",
              "</mark>\n",
              " contra \n",
              "<mark class=\"entity\" style=\"background: #ff9561; padding: 0.45em 0.6em; margin: 0 0.25em; line-height: 1; border-radius: 0.35em;\">\n",
              "    Billie Holiday\n",
              "    <span style=\"font-size: 0.8em; font-weight: bold; line-height: 1; border-radius: 0.35em; vertical-align: middle; margin-left: 0.5rem\">LOC</span>\n",
              "</mark>\n",
              "&quot;, el desalentador retrato del director \n",
              "<mark class=\"entity\" style=\"background: #ddd; padding: 0.45em 0.6em; margin: 0 0.25em; line-height: 1; border-radius: 0.35em;\">\n",
              "    Lee Daniels\n",
              "    <span style=\"font-size: 0.8em; font-weight: bold; line-height: 1; border-radius: 0.35em; vertical-align: middle; margin-left: 0.5rem\">PER</span>\n",
              "</mark>\n",
              " sobre la persecución del \n",
              "<mark class=\"entity\" style=\"background: #ff9561; padding: 0.45em 0.6em; margin: 0 0.25em; line-height: 1; border-radius: 0.35em;\">\n",
              "    Gobierno Federal\n",
              "    <span style=\"font-size: 0.8em; font-weight: bold; line-height: 1; border-radius: 0.35em; vertical-align: middle; margin-left: 0.5rem\">LOC</span>\n",
              "</mark>\n",
              " de \n",
              "<mark class=\"entity\" style=\"background: #ff9561; padding: 0.45em 0.6em; margin: 0 0.25em; line-height: 1; border-radius: 0.35em;\">\n",
              "    Estados Unidos\n",
              "    <span style=\"font-size: 0.8em; font-weight: bold; line-height: 1; border-radius: 0.35em; vertical-align: middle; margin-left: 0.5rem\">LOC</span>\n",
              "</mark>\n",
              " a la gran cantante de jazz desde 1947 hasta su muerte en 1959 a la edad de 44 años.', '\n",
              "<mark class=\"entity\" style=\"background: #ddd; padding: 0.45em 0.6em; margin: 0 0.25em; line-height: 1; border-radius: 0.35em;\">\n",
              "    El título de la cinta\n",
              "    <span style=\"font-size: 0.8em; font-weight: bold; line-height: 1; border-radius: 0.35em; vertical-align: middle; margin-left: 0.5rem\">MISC</span>\n",
              "</mark>\n",
              " toma como referencia una frase de la artista, que ingresó en prisión durante un \n",
              "<mark class=\"entity\" style=\"background: #ddd; padding: 0.45em 0.6em; margin: 0 0.25em; line-height: 1; border-radius: 0.35em;\">\n",
              "    año\n",
              "    <span style=\"font-size: 0.8em; font-weight: bold; line-height: 1; border-radius: 0.35em; vertical-align: middle; margin-left: 0.5rem\">MISC</span>\n",
              "</mark>\n",
              " por un cargo de posesión de narcóticos en el apogeo de su carrera: El caso se llama &quot;\n",
              "<mark class=\"entity\" style=\"background: #ff9561; padding: 0.45em 0.6em; margin: 0 0.25em; line-height: 1; border-radius: 0.35em;\">\n",
              "    Los Estados Unidos de América\n",
              "    <span style=\"font-size: 0.8em; font-weight: bold; line-height: 1; border-radius: 0.35em; vertical-align: middle; margin-left: 0.5rem\">LOC</span>\n",
              "</mark>\n",
              " contra Billie Holiday&quot;.', '\n",
              "<mark class=\"entity\" style=\"background: #ddd; padding: 0.45em 0.6em; margin: 0 0.25em; line-height: 1; border-radius: 0.35em;\">\n",
              "    Está\n",
              "    <span style=\"font-size: 0.8em; font-weight: bold; line-height: 1; border-radius: 0.35em; vertical-align: middle; margin-left: 0.5rem\">PER</span>\n",
              "</mark>\n",
              " basado en un capítulo del libro &quot;Tras el \n",
              "<mark class=\"entity\" style=\"background: #ddd; padding: 0.45em 0.6em; margin: 0 0.25em; line-height: 1; border-radius: 0.35em;\">\n",
              "    grito&quot;\\n\n",
              "    <span style=\"font-size: 0.8em; font-weight: bold; line-height: 1; border-radius: 0.35em; vertical-align: middle; margin-left: 0.5rem\">MISC</span>\n",
              "</mark>\n",
              "']</div></span>"
            ]
          },
          "metadata": {}
        }
      ]
    },
    {
      "cell_type": "markdown",
      "source": [
        "### 6. Visualizar resultados (máximo 10 primeros elementos)"
      ],
      "metadata": {
        "id": "cGURKgW93ANX"
      }
    },
    {
      "cell_type": "code",
      "source": [
        "# Imprimir los 10 primeros elementos de cada lista\n",
        "\n",
        "print(\"Frases:\")\n",
        "print(frases_esp[:10])\n",
        "print()\n",
        "\n",
        "print(\"Palabras:\")\n",
        "print(palabras_esp[:10])\n",
        "print()\n",
        "\n",
        "print(\"Formas normales:\")\n",
        "print(formas_esp[:10])\n",
        "print()\n",
        "\n",
        "print(\"POS:\")\n",
        "print(pos_tags1)\n",
        "print()\n",
        "\n",
        "print('Entidades nombradas:')\n",
        "entidades1 = [(ent.text, ent.label_) for ent in doc_esp.ents if ent.label_ in ['PER', 'ORG', 'LOC']]\n",
        "print(entidades1)"
      ],
      "metadata": {
        "colab": {
          "base_uri": "https://localhost:8080/"
        },
        "id": "hdWeExbU3CiN",
        "outputId": "765a7401-19ff-420a-f448-446b93da4f6d"
      },
      "execution_count": 13,
      "outputs": [
        {
          "output_type": "stream",
          "name": "stdout",
          "text": [
            "Frases:\n",
            "['Cuando los cines parecen recuperar su músculo, llega a las salas de España la película \"Los Estados Unidos contra Billie Holiday\", el desalentador retrato del director Lee Daniels sobre la persecución del Gobierno Federal de Estados Unidos a la gran cantante de jazz desde 1947 hasta su muerte en 1959 a la edad de 44 años.', 'El título de la cinta toma como referencia una frase de la artista, que ingresó en prisión durante un año por un cargo de posesión de narcóticos en el apogeo de su carrera: El caso se llama \"Los Estados Unidos de América contra Billie Holiday\".', 'Está basado en un capítulo del libro \"Tras el grito\"\\n']\n",
            "\n",
            "Palabras:\n",
            "['Cuando', 'los', 'cines', 'parecen', 'recuperar', 'su', 'músculo', ',', 'llega', 'a']\n",
            "\n",
            "Formas normales:\n",
            "[['cuando', 'el', 'cine', 'parecer', 'recuperar', 'su', 'músculo', ',', 'llegar', 'a', 'el', 'sala', 'de', 'España', 'el', 'película', '\"', 'el', 'Estados', 'Unidos', 'contra', 'Billie', 'Holiday', '\"', ',', 'el', 'desalentador', 'retrato', 'del', 'director', 'Lee', 'Daniels', 'sobre', 'el', 'persecución', 'del', 'Gobierno', 'Federal', 'de', 'Estados', 'Unidos', 'a', 'el', 'gran', 'cantante', 'de', 'jazz', 'desde', '1947', 'hasta', 'su', 'muerte', 'en', '1959', 'a', 'el', 'edad', 'de', '44', 'año', '.'], ['el', 'título', 'de', 'el', 'cinta', 'tomar', 'como', 'referencia', 'uno', 'frase', 'de', 'el', 'artista', ',', 'que', 'ingresar', 'en', 'prisión', 'durante', 'uno', 'año', 'por', 'uno', 'cargo', 'de', 'posesión', 'de', 'narcótico', 'en', 'el', 'apogeo', 'de', 'su', 'carrera', ':', 'el', 'caso', 'él', 'llamar', '\"', 'el', 'Estados', 'Unidos', 'de', 'América', 'contra', 'Billie', 'Holiday', '\"', '.'], ['estar', 'basado', 'en', 'uno', 'capítulo', 'del', 'libro', '\"', 'Tras', 'el', 'grito', '\"', '\\n']]\n",
            "\n",
            "POS:\n",
            "[('Cuando', 'SCONJ'), ('los', 'DET'), ('cines', 'NOUN'), ('parecen', 'VERB'), ('recuperar', 'VERB'), ('su', 'DET'), ('músculo', 'NOUN'), (',', 'PUNCT'), ('llega', 'VERB'), ('a', 'ADP'), ('las', 'DET'), ('salas', 'NOUN'), ('de', 'ADP'), ('España', 'PROPN'), ('la', 'DET'), ('película', 'NOUN'), ('\"', 'PUNCT'), ('Los', 'DET'), ('Estados', 'PROPN'), ('Unidos', 'PROPN'), ('contra', 'ADP'), ('Billie', 'PROPN'), ('Holiday', 'PROPN'), ('\"', 'PUNCT'), (',', 'PUNCT'), ('el', 'DET'), ('desalentador', 'NOUN'), ('retrato', 'ADJ'), ('del', 'ADP'), ('director', 'NOUN'), ('Lee', 'PROPN'), ('Daniels', 'PROPN'), ('sobre', 'ADP'), ('la', 'DET'), ('persecución', 'NOUN'), ('del', 'ADP'), ('Gobierno', 'PROPN'), ('Federal', 'PROPN'), ('de', 'ADP'), ('Estados', 'PROPN'), ('Unidos', 'PROPN'), ('a', 'ADP'), ('la', 'DET'), ('gran', 'ADJ'), ('cantante', 'NOUN'), ('de', 'ADP'), ('jazz', 'NOUN'), ('desde', 'ADP'), ('1947', 'NOUN'), ('hasta', 'ADP'), ('su', 'DET'), ('muerte', 'NOUN'), ('en', 'ADP'), ('1959', 'NOUN'), ('a', 'ADP'), ('la', 'DET'), ('edad', 'NOUN'), ('de', 'ADP'), ('44', 'NUM'), ('años', 'NOUN'), ('.', 'PUNCT'), ('El', 'DET'), ('título', 'NOUN'), ('de', 'ADP'), ('la', 'DET'), ('cinta', 'NOUN'), ('toma', 'VERB'), ('como', 'SCONJ'), ('referencia', 'NOUN'), ('una', 'DET'), ('frase', 'NOUN'), ('de', 'ADP'), ('la', 'DET'), ('artista', 'NOUN'), (',', 'PUNCT'), ('que', 'PRON'), ('ingresó', 'VERB'), ('en', 'ADP'), ('prisión', 'NOUN'), ('durante', 'ADP'), ('un', 'DET'), ('año', 'NOUN'), ('por', 'ADP'), ('un', 'DET'), ('cargo', 'NOUN'), ('de', 'ADP'), ('posesión', 'NOUN'), ('de', 'ADP'), ('narcóticos', 'NOUN'), ('en', 'ADP'), ('el', 'DET'), ('apogeo', 'NOUN'), ('de', 'ADP'), ('su', 'DET'), ('carrera', 'NOUN'), (':', 'PUNCT'), ('El', 'DET'), ('caso', 'NOUN'), ('se', 'PRON'), ('llama', 'VERB'), ('\"', 'PUNCT'), ('Los', 'DET'), ('Estados', 'PROPN'), ('Unidos', 'PROPN'), ('de', 'ADP'), ('América', 'PROPN'), ('contra', 'ADP'), ('Billie', 'PROPN'), ('Holiday', 'PROPN'), ('\"', 'PUNCT'), ('.', 'PUNCT'), ('Está', 'AUX'), ('basado', 'ADJ'), ('en', 'ADP'), ('un', 'DET'), ('capítulo', 'NOUN'), ('del', 'ADP'), ('libro', 'NOUN'), ('\"', 'PUNCT'), ('Tras', 'ADP'), ('el', 'DET'), ('grito', 'NOUN'), ('\"', 'PUNCT'), ('\\n', 'SPACE')]\n",
            "\n",
            "Entidades nombradas:\n",
            "[('España', 'LOC'), ('Los Estados Unidos', 'LOC'), ('Billie Holiday', 'LOC'), ('Lee Daniels', 'PER'), ('Gobierno Federal', 'LOC'), ('Estados Unidos', 'LOC'), ('Los Estados Unidos de América', 'LOC'), ('Está', 'PER')]\n"
          ]
        }
      ]
    },
    {
      "cell_type": "markdown",
      "source": [
        "# Texto en Inglés (utilizando NLTK)\n",
        "\n",
        "1. Visualizar contenido.\n",
        "2. Cargar y aplicar el modelo de lenguaje.\n",
        "3. Tokenizar.\n",
        "\n",
        "  3.1. Separar en frases.\n",
        "\n",
        "  3.2. Separar en palabras.\n",
        "\n",
        "  3.3. Lematizar.\n",
        "\n",
        "4. Análisis morfológico (POS, Part of Speech)\n",
        "5. Extracción de entidades (realizado con spacy).\n",
        "6. Visualizar resultados (máximo 10 primeros elementos)"
      ],
      "metadata": {
        "id": "veS4nlYoXKh6"
      }
    },
    {
      "cell_type": "markdown",
      "source": [
        "### 1. Visualizar contenido.\n"
      ],
      "metadata": {
        "id": "53YYzm51XP4A"
      }
    },
    {
      "cell_type": "code",
      "source": [
        "ing_text"
      ],
      "metadata": {
        "colab": {
          "base_uri": "https://localhost:8080/",
          "height": 126
        },
        "id": "vILKc_w6VRUH",
        "outputId": "27d7daf7-0098-4174-ac7c-fe917cd8ad0a"
      },
      "execution_count": 14,
      "outputs": [
        {
          "output_type": "execute_result",
          "data": {
            "text/plain": [
              "'This week, a Filipino woman was attacked in Midtown Manhattan during broad daylight. This assault came on the heels of the Atlanta-area shooting in which six women of Asian descent were killed and amid reports of rising crime against Asians. One group, Stop AAPI Hate, received nearly 3,800 accounts of incidents nationally between March 19, 2020, and Feb. 28. The poet and author Cathy Park Hong notes that these events have set off outrage in the Asian-American community. Her essay collection “Minor Feelings: An Asian-American Reckoning” wrestles with how discrimination against Asians is often left out in conversations about race in the United States. “We have also been victims to systemic racism throughout history,” Ms. Hong says, “but we have been conditioned to pretend that it doesn’t exist, to minimize it.”'"
            ],
            "application/vnd.google.colaboratory.intrinsic+json": {
              "type": "string"
            }
          },
          "metadata": {},
          "execution_count": 14
        }
      ]
    },
    {
      "cell_type": "markdown",
      "source": [
        "### 2.Cargar y aplicar el modelo de lenguaje.\n"
      ],
      "metadata": {
        "id": "e58PaJFsXX76"
      }
    },
    {
      "cell_type": "code",
      "source": [
        "import nltk\n",
        "nltk.download('punkt')\n",
        "nltk.download('averaged_perceptron_tagger')\n",
        "nltk.download('wordnet')"
      ],
      "metadata": {
        "colab": {
          "base_uri": "https://localhost:8080/"
        },
        "id": "Bldd3A47VRWo",
        "outputId": "bb0c05fa-7cd8-4e78-db22-af8f0f96a6f4"
      },
      "execution_count": 15,
      "outputs": [
        {
          "output_type": "stream",
          "name": "stderr",
          "text": [
            "[nltk_data] Downloading package punkt to /root/nltk_data...\n",
            "[nltk_data]   Unzipping tokenizers/punkt.zip.\n",
            "[nltk_data] Downloading package averaged_perceptron_tagger to\n",
            "[nltk_data]     /root/nltk_data...\n",
            "[nltk_data]   Unzipping taggers/averaged_perceptron_tagger.zip.\n",
            "[nltk_data] Downloading package wordnet to /root/nltk_data...\n"
          ]
        },
        {
          "output_type": "execute_result",
          "data": {
            "text/plain": [
              "True"
            ]
          },
          "metadata": {},
          "execution_count": 15
        }
      ]
    },
    {
      "cell_type": "markdown",
      "source": [
        "### 3. Tokenizar"
      ],
      "metadata": {
        "id": "xiIUZwIfXhyb"
      }
    },
    {
      "cell_type": "code",
      "source": [
        "sent_ing = nltk.sent_tokenize(ing_text)\n",
        "word_ing = nltk.word_tokenize(ing_text)\n",
        "lemmatizer = nltk.WordNetLemmatizer()\n",
        "lemmas_ing = [lemmatizer.lemmatize(w) for w in word_ing]\n",
        "\n",
        "# Imprimir resultados (español)\n",
        "#print('Frases en inglés:')\n",
        "#print(sent_ing[:10])\n",
        "#print('Palabras en inglés:')\n",
        "##print(word_ing[:10])\n",
        "#print('Formas normales en inglés:')\n",
        "#print(lemmas_ing[:10])"
      ],
      "metadata": {
        "id": "847s2sRdVRZK"
      },
      "execution_count": 16,
      "outputs": []
    },
    {
      "cell_type": "markdown",
      "source": [
        "### 4. Análisis morfológico (POS, Part of Speech)"
      ],
      "metadata": {
        "id": "uDnAa-FwX5dF"
      }
    },
    {
      "cell_type": "code",
      "source": [
        "# Etiquetado de partes del discurso\n",
        "pos_tags_ing = nltk.pos_tag(word_ing, lang='eng')\n",
        "\n",
        "# Imprimir resultados\n",
        "#print(pos_tags_ing)"
      ],
      "metadata": {
        "id": "-3KpZNi3X-gu"
      },
      "execution_count": 17,
      "outputs": []
    },
    {
      "cell_type": "markdown",
      "source": [
        "### 5. Extracción de entidades."
      ],
      "metadata": {
        "id": "h3YN3FjvakYJ"
      }
    },
    {
      "cell_type": "code",
      "source": [
        "# Cargar modelo de lenguaje en inglés\n",
        "nlp_eng = spacy.load('en_core_web_sm')\n",
        "doc_ing = nlp_eng(ing_text)"
      ],
      "metadata": {
        "id": "MNbIZeKDdVls"
      },
      "execution_count": 18,
      "outputs": []
    },
    {
      "cell_type": "code",
      "source": [
        "entidades_ing = [(ent.text, ent.label_) for ent in doc_ing.ents]\n",
        "\n",
        "# Imprimir resultados\n",
        "# Imprimir resultados\n",
        "#print('Entidades nombradas:\\n')\n",
        "#print(entidades_ing)"
      ],
      "metadata": {
        "id": "bnuPeMN_dFs7"
      },
      "execution_count": 19,
      "outputs": []
    },
    {
      "cell_type": "code",
      "source": [
        "displacy.render(nlp(str(sent_ing)), jupyter=True, style='ent')"
      ],
      "metadata": {
        "colab": {
          "base_uri": "https://localhost:8080/",
          "height": 247
        },
        "id": "EbTEqTJfX-jR",
        "outputId": "51798100-fed4-40f6-a09d-c0acae27e48f"
      },
      "execution_count": 20,
      "outputs": [
        {
          "output_type": "display_data",
          "data": {
            "text/plain": [
              "<IPython.core.display.HTML object>"
            ],
            "text/html": [
              "<span class=\"tex2jax_ignore\"><div class=\"entities\" style=\"line-height: 2.5; direction: ltr\">['\n",
              "<mark class=\"entity\" style=\"background: #ddd; padding: 0.45em 0.6em; margin: 0 0.25em; line-height: 1; border-radius: 0.35em;\">\n",
              "    This week\n",
              "    <span style=\"font-size: 0.8em; font-weight: bold; line-height: 1; border-radius: 0.35em; vertical-align: middle; margin-left: 0.5rem\">MISC</span>\n",
              "</mark>\n",
              ", a \n",
              "<mark class=\"entity\" style=\"background: #ddd; padding: 0.45em 0.6em; margin: 0 0.25em; line-height: 1; border-radius: 0.35em;\">\n",
              "    Filipino woman was attacked in Midtown Manhattan\n",
              "    <span style=\"font-size: 0.8em; font-weight: bold; line-height: 1; border-radius: 0.35em; vertical-align: middle; margin-left: 0.5rem\">PER</span>\n",
              "</mark>\n",
              " during broad daylight.', '\n",
              "<mark class=\"entity\" style=\"background: #7aecec; padding: 0.45em 0.6em; margin: 0 0.25em; line-height: 1; border-radius: 0.35em;\">\n",
              "    This\n",
              "    <span style=\"font-size: 0.8em; font-weight: bold; line-height: 1; border-radius: 0.35em; vertical-align: middle; margin-left: 0.5rem\">ORG</span>\n",
              "</mark>\n",
              " assault \n",
              "<mark class=\"entity\" style=\"background: #ddd; padding: 0.45em 0.6em; margin: 0 0.25em; line-height: 1; border-radius: 0.35em;\">\n",
              "    came on the heels of the Atlanta-area shooting in which\n",
              "    <span style=\"font-size: 0.8em; font-weight: bold; line-height: 1; border-radius: 0.35em; vertical-align: middle; margin-left: 0.5rem\">MISC</span>\n",
              "</mark>\n",
              " six women of Asian descent were killed and amid reports of rising crime against \n",
              "<mark class=\"entity\" style=\"background: #ddd; padding: 0.45em 0.6em; margin: 0 0.25em; line-height: 1; border-radius: 0.35em;\">\n",
              "    Asians\n",
              "    <span style=\"font-size: 0.8em; font-weight: bold; line-height: 1; border-radius: 0.35em; vertical-align: middle; margin-left: 0.5rem\">PER</span>\n",
              "</mark>\n",
              ".', '\n",
              "<mark class=\"entity\" style=\"background: #ddd; padding: 0.45em 0.6em; margin: 0 0.25em; line-height: 1; border-radius: 0.35em;\">\n",
              "    One\n",
              "    <span style=\"font-size: 0.8em; font-weight: bold; line-height: 1; border-radius: 0.35em; vertical-align: middle; margin-left: 0.5rem\">MISC</span>\n",
              "</mark>\n",
              " group, \n",
              "<mark class=\"entity\" style=\"background: #ddd; padding: 0.45em 0.6em; margin: 0 0.25em; line-height: 1; border-radius: 0.35em;\">\n",
              "    Stop AAPI Hate\n",
              "    <span style=\"font-size: 0.8em; font-weight: bold; line-height: 1; border-radius: 0.35em; vertical-align: middle; margin-left: 0.5rem\">MISC</span>\n",
              "</mark>\n",
              ", \n",
              "<mark class=\"entity\" style=\"background: #ddd; padding: 0.45em 0.6em; margin: 0 0.25em; line-height: 1; border-radius: 0.35em;\">\n",
              "    received nearly\n",
              "    <span style=\"font-size: 0.8em; font-weight: bold; line-height: 1; border-radius: 0.35em; vertical-align: middle; margin-left: 0.5rem\">PER</span>\n",
              "</mark>\n",
              " 3,800 accounts \n",
              "<mark class=\"entity\" style=\"background: #ddd; padding: 0.45em 0.6em; margin: 0 0.25em; line-height: 1; border-radius: 0.35em;\">\n",
              "    of incidents nationally\n",
              "    <span style=\"font-size: 0.8em; font-weight: bold; line-height: 1; border-radius: 0.35em; vertical-align: middle; margin-left: 0.5rem\">MISC</span>\n",
              "</mark>\n",
              " between \n",
              "<mark class=\"entity\" style=\"background: #ddd; padding: 0.45em 0.6em; margin: 0 0.25em; line-height: 1; border-radius: 0.35em;\">\n",
              "    March 19\n",
              "    <span style=\"font-size: 0.8em; font-weight: bold; line-height: 1; border-radius: 0.35em; vertical-align: middle; margin-left: 0.5rem\">MISC</span>\n",
              "</mark>\n",
              ", 2020, and \n",
              "<mark class=\"entity\" style=\"background: #7aecec; padding: 0.45em 0.6em; margin: 0 0.25em; line-height: 1; border-radius: 0.35em;\">\n",
              "    Feb\n",
              "    <span style=\"font-size: 0.8em; font-weight: bold; line-height: 1; border-radius: 0.35em; vertical-align: middle; margin-left: 0.5rem\">ORG</span>\n",
              "</mark>\n",
              ". 28.', '\n",
              "<mark class=\"entity\" style=\"background: #ddd; padding: 0.45em 0.6em; margin: 0 0.25em; line-height: 1; border-radius: 0.35em;\">\n",
              "    The poet and author Cathy Park Hong notes that\n",
              "    <span style=\"font-size: 0.8em; font-weight: bold; line-height: 1; border-radius: 0.35em; vertical-align: middle; margin-left: 0.5rem\">MISC</span>\n",
              "</mark>\n",
              " these events have set off \n",
              "<mark class=\"entity\" style=\"background: #ddd; padding: 0.45em 0.6em; margin: 0 0.25em; line-height: 1; border-radius: 0.35em;\">\n",
              "    outrage in the Asian-American community\n",
              "    <span style=\"font-size: 0.8em; font-weight: bold; line-height: 1; border-radius: 0.35em; vertical-align: middle; margin-left: 0.5rem\">MISC</span>\n",
              "</mark>\n",
              ".', '\n",
              "<mark class=\"entity\" style=\"background: #7aecec; padding: 0.45em 0.6em; margin: 0 0.25em; line-height: 1; border-radius: 0.35em;\">\n",
              "    Her\n",
              "    <span style=\"font-size: 0.8em; font-weight: bold; line-height: 1; border-radius: 0.35em; vertical-align: middle; margin-left: 0.5rem\">ORG</span>\n",
              "</mark>\n",
              " essay collection \n",
              "<mark class=\"entity\" style=\"background: #ddd; padding: 0.45em 0.6em; margin: 0 0.25em; line-height: 1; border-radius: 0.35em;\">\n",
              "    “Minor Feelings\n",
              "    <span style=\"font-size: 0.8em; font-weight: bold; line-height: 1; border-radius: 0.35em; vertical-align: middle; margin-left: 0.5rem\">PER</span>\n",
              "</mark>\n",
              ": \n",
              "<mark class=\"entity\" style=\"background: #ddd; padding: 0.45em 0.6em; margin: 0 0.25em; line-height: 1; border-radius: 0.35em;\">\n",
              "    An Asian-American Reckoning\n",
              "    <span style=\"font-size: 0.8em; font-weight: bold; line-height: 1; border-radius: 0.35em; vertical-align: middle; margin-left: 0.5rem\">MISC</span>\n",
              "</mark>\n",
              "” wrestles with how discrimination against \n",
              "<mark class=\"entity\" style=\"background: #ff9561; padding: 0.45em 0.6em; margin: 0 0.25em; line-height: 1; border-radius: 0.35em;\">\n",
              "    Asians\n",
              "    <span style=\"font-size: 0.8em; font-weight: bold; line-height: 1; border-radius: 0.35em; vertical-align: middle; margin-left: 0.5rem\">LOC</span>\n",
              "</mark>\n",
              " is often left \n",
              "<mark class=\"entity\" style=\"background: #ddd; padding: 0.45em 0.6em; margin: 0 0.25em; line-height: 1; border-radius: 0.35em;\">\n",
              "    out in conversations about race in the United States\n",
              "    <span style=\"font-size: 0.8em; font-weight: bold; line-height: 1; border-radius: 0.35em; vertical-align: middle; margin-left: 0.5rem\">MISC</span>\n",
              "</mark>\n",
              ".', \n",
              "<mark class=\"entity\" style=\"background: #ddd; padding: 0.45em 0.6em; margin: 0 0.25em; line-height: 1; border-radius: 0.35em;\">\n",
              "    '“We have also been victims to systemic racism\n",
              "    <span style=\"font-size: 0.8em; font-weight: bold; line-height: 1; border-radius: 0.35em; vertical-align: middle; margin-left: 0.5rem\">MISC</span>\n",
              "</mark>\n",
              " \n",
              "<mark class=\"entity\" style=\"background: #ddd; padding: 0.45em 0.6em; margin: 0 0.25em; line-height: 1; border-radius: 0.35em;\">\n",
              "    throughout history\n",
              "    <span style=\"font-size: 0.8em; font-weight: bold; line-height: 1; border-radius: 0.35em; vertical-align: middle; margin-left: 0.5rem\">MISC</span>\n",
              "</mark>\n",
              ",\n",
              "<mark class=\"entity\" style=\"background: #ddd; padding: 0.45em 0.6em; margin: 0 0.25em; line-height: 1; border-radius: 0.35em;\">\n",
              "    ” Ms.\n",
              "    <span style=\"font-size: 0.8em; font-weight: bold; line-height: 1; border-radius: 0.35em; vertical-align: middle; margin-left: 0.5rem\">MISC</span>\n",
              "</mark>\n",
              " \n",
              "<mark class=\"entity\" style=\"background: #ddd; padding: 0.45em 0.6em; margin: 0 0.25em; line-height: 1; border-radius: 0.35em;\">\n",
              "    Hong\n",
              "    <span style=\"font-size: 0.8em; font-weight: bold; line-height: 1; border-radius: 0.35em; vertical-align: middle; margin-left: 0.5rem\">PER</span>\n",
              "</mark>\n",
              " says, \n",
              "<mark class=\"entity\" style=\"background: #ddd; padding: 0.45em 0.6em; margin: 0 0.25em; line-height: 1; border-radius: 0.35em;\">\n",
              "    “but we have been conditioned to pretend that it doesn’t exist\n",
              "    <span style=\"font-size: 0.8em; font-weight: bold; line-height: 1; border-radius: 0.35em; vertical-align: middle; margin-left: 0.5rem\">MISC</span>\n",
              "</mark>\n",
              ", to minimize it.”']</div></span>"
            ]
          },
          "metadata": {}
        }
      ]
    },
    {
      "cell_type": "markdown",
      "source": [
        "### 6. Visualizar resultados (máximo 10 primeros elementos)"
      ],
      "metadata": {
        "id": "KZ1-C4Yt5Yf8"
      }
    },
    {
      "cell_type": "code",
      "source": [
        "# Imprimir los 10 primeros elementos de cada lista\n",
        "\n",
        "print(\"Frases:\")\n",
        "print(sent_ing[:10])\n",
        "print()\n",
        "\n",
        "print(\"Palabras:\")\n",
        "print(word_ing[:10])\n",
        "print()\n",
        "\n",
        "print(\"Formas normales:\")\n",
        "print(pos_tags_ing[:10])\n",
        "print()\n",
        "\n",
        "print(\"POS:\")\n",
        "print(pos_tags1)\n",
        "print()\n",
        "\n",
        "print('Entidades nombradas:')\n",
        "entidades_ing = [(ent.text, ent.label_) for ent in doc_esp.ents if ent.label_ in ['PER', 'ORG', 'LOC']]\n",
        "print(entidades_ing)"
      ],
      "metadata": {
        "id": "gOrAPH9Tix65",
        "colab": {
          "base_uri": "https://localhost:8080/"
        },
        "outputId": "7ca97ddb-2a2b-489b-f74b-454f4d8353e9"
      },
      "execution_count": 21,
      "outputs": [
        {
          "output_type": "stream",
          "name": "stdout",
          "text": [
            "Frases:\n",
            "['This week, a Filipino woman was attacked in Midtown Manhattan during broad daylight.', 'This assault came on the heels of the Atlanta-area shooting in which six women of Asian descent were killed and amid reports of rising crime against Asians.', 'One group, Stop AAPI Hate, received nearly 3,800 accounts of incidents nationally between March 19, 2020, and Feb. 28.', 'The poet and author Cathy Park Hong notes that these events have set off outrage in the Asian-American community.', 'Her essay collection “Minor Feelings: An Asian-American Reckoning” wrestles with how discrimination against Asians is often left out in conversations about race in the United States.', '“We have also been victims to systemic racism throughout history,” Ms. Hong says, “but we have been conditioned to pretend that it doesn’t exist, to minimize it.”']\n",
            "\n",
            "Palabras:\n",
            "['This', 'week', ',', 'a', 'Filipino', 'woman', 'was', 'attacked', 'in', 'Midtown']\n",
            "\n",
            "Formas normales:\n",
            "[('This', 'DT'), ('week', 'NN'), (',', ','), ('a', 'DT'), ('Filipino', 'NNP'), ('woman', 'NN'), ('was', 'VBD'), ('attacked', 'VBN'), ('in', 'IN'), ('Midtown', 'NNP')]\n",
            "\n",
            "POS:\n",
            "[('Cuando', 'SCONJ'), ('los', 'DET'), ('cines', 'NOUN'), ('parecen', 'VERB'), ('recuperar', 'VERB'), ('su', 'DET'), ('músculo', 'NOUN'), (',', 'PUNCT'), ('llega', 'VERB'), ('a', 'ADP'), ('las', 'DET'), ('salas', 'NOUN'), ('de', 'ADP'), ('España', 'PROPN'), ('la', 'DET'), ('película', 'NOUN'), ('\"', 'PUNCT'), ('Los', 'DET'), ('Estados', 'PROPN'), ('Unidos', 'PROPN'), ('contra', 'ADP'), ('Billie', 'PROPN'), ('Holiday', 'PROPN'), ('\"', 'PUNCT'), (',', 'PUNCT'), ('el', 'DET'), ('desalentador', 'NOUN'), ('retrato', 'ADJ'), ('del', 'ADP'), ('director', 'NOUN'), ('Lee', 'PROPN'), ('Daniels', 'PROPN'), ('sobre', 'ADP'), ('la', 'DET'), ('persecución', 'NOUN'), ('del', 'ADP'), ('Gobierno', 'PROPN'), ('Federal', 'PROPN'), ('de', 'ADP'), ('Estados', 'PROPN'), ('Unidos', 'PROPN'), ('a', 'ADP'), ('la', 'DET'), ('gran', 'ADJ'), ('cantante', 'NOUN'), ('de', 'ADP'), ('jazz', 'NOUN'), ('desde', 'ADP'), ('1947', 'NOUN'), ('hasta', 'ADP'), ('su', 'DET'), ('muerte', 'NOUN'), ('en', 'ADP'), ('1959', 'NOUN'), ('a', 'ADP'), ('la', 'DET'), ('edad', 'NOUN'), ('de', 'ADP'), ('44', 'NUM'), ('años', 'NOUN'), ('.', 'PUNCT'), ('El', 'DET'), ('título', 'NOUN'), ('de', 'ADP'), ('la', 'DET'), ('cinta', 'NOUN'), ('toma', 'VERB'), ('como', 'SCONJ'), ('referencia', 'NOUN'), ('una', 'DET'), ('frase', 'NOUN'), ('de', 'ADP'), ('la', 'DET'), ('artista', 'NOUN'), (',', 'PUNCT'), ('que', 'PRON'), ('ingresó', 'VERB'), ('en', 'ADP'), ('prisión', 'NOUN'), ('durante', 'ADP'), ('un', 'DET'), ('año', 'NOUN'), ('por', 'ADP'), ('un', 'DET'), ('cargo', 'NOUN'), ('de', 'ADP'), ('posesión', 'NOUN'), ('de', 'ADP'), ('narcóticos', 'NOUN'), ('en', 'ADP'), ('el', 'DET'), ('apogeo', 'NOUN'), ('de', 'ADP'), ('su', 'DET'), ('carrera', 'NOUN'), (':', 'PUNCT'), ('El', 'DET'), ('caso', 'NOUN'), ('se', 'PRON'), ('llama', 'VERB'), ('\"', 'PUNCT'), ('Los', 'DET'), ('Estados', 'PROPN'), ('Unidos', 'PROPN'), ('de', 'ADP'), ('América', 'PROPN'), ('contra', 'ADP'), ('Billie', 'PROPN'), ('Holiday', 'PROPN'), ('\"', 'PUNCT'), ('.', 'PUNCT'), ('Está', 'AUX'), ('basado', 'ADJ'), ('en', 'ADP'), ('un', 'DET'), ('capítulo', 'NOUN'), ('del', 'ADP'), ('libro', 'NOUN'), ('\"', 'PUNCT'), ('Tras', 'ADP'), ('el', 'DET'), ('grito', 'NOUN'), ('\"', 'PUNCT'), ('\\n', 'SPACE')]\n",
            "\n",
            "Entidades nombradas:\n",
            "[('España', 'LOC'), ('Los Estados Unidos', 'LOC'), ('Billie Holiday', 'LOC'), ('Lee Daniels', 'PER'), ('Gobierno Federal', 'LOC'), ('Estados Unidos', 'LOC'), ('Los Estados Unidos de América', 'LOC'), ('Está', 'PER')]\n"
          ]
        }
      ]
    }
  ]
}